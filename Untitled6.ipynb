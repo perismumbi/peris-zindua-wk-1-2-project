{
  "nbformat": 4,
  "nbformat_minor": 0,
  "metadata": {
    "colab": {
      "provenance": []
    },
    "kernelspec": {
      "name": "python3",
      "display_name": "Python 3"
    },
    "language_info": {
      "name": "python"
    }
  },
  "cells": [
    {
      "cell_type": "code",
      "execution_count": null,
      "metadata": {
        "colab": {
          "base_uri": "https://localhost:8080/"
        },
        "id": "wrTC8ofqFfJ4",
        "outputId": "5adbd355-087f-4169-978f-00c027ce5dcd"
      },
      "outputs": [
        {
          "output_type": "stream",
          "name": "stdout",
          "text": [
            "Collecting pymysql\n",
            "  Downloading PyMySQL-1.1.0-py3-none-any.whl (44 kB)\n",
            "\u001b[?25l     \u001b[90m━━━━━━━━━━━━━━━━━━━━━━━━━━━━━━━━━━━━━━━━\u001b[0m \u001b[32m0.0/44.8 kB\u001b[0m \u001b[31m?\u001b[0m eta \u001b[36m-:--:--\u001b[0m\r\u001b[2K     \u001b[91m━━━━━━━━━━━━━━━━━━━━━━━━━━━━━━━━━━━━\u001b[0m\u001b[91m╸\u001b[0m\u001b[90m━━━\u001b[0m \u001b[32m41.0/44.8 kB\u001b[0m \u001b[31m1.1 MB/s\u001b[0m eta \u001b[36m0:00:01\u001b[0m\r\u001b[2K     \u001b[90m━━━━━━━━━━━━━━━━━━━━━━━━━━━━━━━━━━━━━━━━\u001b[0m \u001b[32m44.8/44.8 kB\u001b[0m \u001b[31m962.5 kB/s\u001b[0m eta \u001b[36m0:00:00\u001b[0m\n",
            "\u001b[?25hInstalling collected packages: pymysql\n",
            "Successfully installed pymysql-1.1.0\n"
          ]
        }
      ],
      "source": [
        "!pip install pymysql"
      ]
    },
    {
      "cell_type": "code",
      "source": [
        "%load_ext sql"
      ],
      "metadata": {
        "id": "H92yktDRFntE"
      },
      "execution_count": null,
      "outputs": []
    },
    {
      "cell_type": "code",
      "source": [
        "%sql sqlite:///beneficiary"
      ],
      "metadata": {
        "id": "Bft9YqWeFrd2"
      },
      "execution_count": null,
      "outputs": []
    },
    {
      "cell_type": "code",
      "source": [
        "%sql create table beneficiary_parner_data(partner_id int,partner varchar100,village varchar100,beneficiary int, beneficiary_type);"
      ],
      "metadata": {
        "colab": {
          "base_uri": "https://localhost:8080/"
        },
        "id": "sD28pWskzYD-",
        "outputId": "5287e81d-c922-4c74-856e-33260a45eca5"
      },
      "execution_count": null,
      "outputs": [
        {
          "output_type": "stream",
          "name": "stdout",
          "text": [
            " * sqlite:///beneficiary\n",
            "Done.\n"
          ]
        },
        {
          "output_type": "execute_result",
          "data": {
            "text/plain": [
              "[]"
            ]
          },
          "metadata": {},
          "execution_count": 3
        }
      ]
    },
    {
      "cell_type": "code",
      "source": [
        "%%sql insert into beneficiary_parner_data(partner_id,partner,village,beneficiary,beneficiary_type) values\n",
        "(2,'NRC','Balcad','50','Households'),\n",
        "(3,'SCI','Balcad','1123','Individuals'),\n",
        "(4,'IMC','Balcad','1245','Individuals'),\n",
        "(5,'SCI','Mareeray','5200','Individuals'),\n",
        "(6,'IMC','Mareeray','70','Households'),\n",
        "(7,'IRC','Mareeray','2100','Individuals'),\n",
        "(8,'CESVI','Mareeray','1800','Individuals'),\n",
        "(9,'SCI','Kulmis','1340','Individuals'),\n",
        "(10,'IMC','Kulmis','55','Households'),\n",
        "(11,'SCI','Kulmis','4500','Individuals'),\n",
        "(12,'IMC','Kulmis','1670','Individuals'),\n",
        "(13,'IMC','Sabuun','1340','Individuals'),\n",
        "(14,'IRC','Sabuun','66','Households'),\n",
        "(15,'CESVI','Sabuun','4090','Individuals'),\n",
        "(16,'SCI','Sabuun','2930','Individuals'),\n",
        "(17,'IMC','Bayaxaw','2800','Individuals'),\n",
        "(18,'IRC','Bayaxaw','2100','Individuals'),\n",
        "(19,'CESVI','Bayaxaw','45','Households'),\n",
        "(20,'SCI','Bayaxaw','1700','Individuals'),\n",
        "(21,'SCI','Bayaxawo','5900','Individuals'),\n",
        "(22,'IMC','Bayaxawo','40','Households'),\n",
        "(23,'IRC','Bayaxawo','1500','Individuals'),\n",
        "(24,'CESVI','Bayaxawo','1260','Individuals'),\n",
        "(25,'CESVI','Dharkenley','7880','Individuals'),\n",
        "(26,'IRC','Dharkenley','34','Households'),\n",
        "(27,'SCI','Bulo-Kahin','4300','Individuals'),\n",
        "(28,'IMC','Bulo-Kahin','4212','Individuals'),\n",
        "(29,'IRC','Bulo-Kahin','3200','Individuals'),\n",
        "(30,'IRC','Hilo Kelyo','5212','Individuals'),\n",
        "(31,'SCI','Hilo Kelyo','25','Households'),\n",
        "(32,'CESVI','Xubow','2157','Individuals'),\n",
        "(33,'IMC','Xiintooy','1667','Individuals'),\n",
        "(34,'IRC','Xiintooy','2667','Individuals'),\n",
        "(35,'CESVI','Dhagax Jebis','2856','Individuals'),\n",
        "(36,'CESVI','Filtare','7519','Individuals'),\n",
        "(37,'CESVI','Howl-Wadaag','6870','Individuals'),\n",
        "(38,'IMC','Howl-Wadaag','32','Households');\n",
        "\n"
      ],
      "metadata": {
        "colab": {
          "base_uri": "https://localhost:8080/"
        },
        "id": "hBEvdrM82coR",
        "outputId": "d8481def-b2bc-4c0c-c784-73158eca2312"
      },
      "execution_count": null,
      "outputs": [
        {
          "output_type": "stream",
          "name": "stdout",
          "text": [
            " * sqlite:///beneficiary\n",
            "37 rows affected.\n"
          ]
        },
        {
          "output_type": "execute_result",
          "data": {
            "text/plain": [
              "[]"
            ]
          },
          "metadata": {},
          "execution_count": 4
        }
      ]
    },
    {
      "cell_type": "code",
      "source": [
        "%sql create table village_location(village_id int,village varchar100,latitude varchar100,longitude varchar100,total_population int);"
      ],
      "metadata": {
        "colab": {
          "base_uri": "https://localhost:8080/"
        },
        "id": "46TyDCii407U",
        "outputId": "0dcefe63-0abb-40bb-d698-838b5e85c61a"
      },
      "execution_count": null,
      "outputs": [
        {
          "output_type": "stream",
          "name": "stdout",
          "text": [
            " * sqlite:///beneficiary\n",
            "Done.\n"
          ]
        },
        {
          "output_type": "execute_result",
          "data": {
            "text/plain": [
              "[]"
            ]
          },
          "metadata": {},
          "execution_count": 5
        }
      ]
    },
    {
      "cell_type": "code",
      "source": [
        "%%sql INSERT INTO beneficiary_parner_data (partner_id, partner, village, beneficiary, beneficiary_type) VALUES\n",
        "(2, 'NRC', 'Balcad', '50', 'Households'),\n",
        "(3, 'SCI', 'Balcad', '1123', 'Individuals'),\n",
        "(4, 'IMC', 'Balcad', '1245', 'Individuals'),\n",
        "(5, 'SCI', 'Mareeray', '5200', 'Individuals'),\n",
        "(6, 'IMC', 'Mareeray', '70', 'Households'),\n",
        "(7, 'IRC', 'Mareeray', '2100', 'Individuals'),\n",
        "(8, 'CESVI', 'Mareeray', '1800', 'Individuals'),\n",
        "(9, 'SCI', 'Kulmis', '1340', 'Individuals'),\n",
        "(10, 'IMC', 'Kulmis', '55', 'Households'),\n",
        "(11, 'SCI', 'Kulmis', '4500', 'Individuals'),\n",
        "(12, 'IMC', 'Kulmis', '1670', 'Individuals'),\n",
        "(13, 'IMC', 'Sabuun', '1340', 'Individuals'),\n",
        "(14, 'IRC', 'Sabuun', '66', 'Households'),\n",
        "(15, 'CESVI', 'Sabuun', '4090', 'Individuals'),\n",
        "(16, 'SCI', 'Sabuun', '2930', 'Individuals'),\n",
        "(17, 'IMC', 'Bayaxaw', '2800', 'Individuals'),\n",
        "(18, 'IRC', 'Bayaxaw', '2100', 'Individuals'),\n",
        "(19, 'CESVI', 'Bayaxaw', '45', 'Households'),\n",
        "(20, 'SCI', 'Bayaxaw', '1700', 'Individuals'),\n",
        "(21, 'SCI', 'Bayaxawo', '5900', 'Individuals'),\n",
        "(22, 'IMC', 'Bayaxawo', '40', 'Households'),\n",
        "(23, 'IRC', 'Bayaxawo', '1500', 'Individuals'),\n",
        "(24, 'CESVI', 'Bayaxawo', '1260', 'Individuals'),\n",
        "(25, 'CESVI', 'Dharkenley', '7880', 'Individuals'),\n",
        "(26, 'IRC', 'Dharkenley', '34', 'Households'),\n",
        "(27, 'SCI', 'Bulo-Kahin', '4300', 'Individuals'),\n",
        "(28, 'IMC', 'Bulo-Kahin', '4212', 'Individuals'),\n",
        "(29, 'IRC', 'Bulo-Kahin', '3200', 'Individuals'),\n",
        "(30, 'IRC', 'Hilo Kelyo', '5212', 'Individuals'),\n",
        "(31, 'SCI', 'Hilo Kelyo', '25', 'Households'),\n",
        "(32, 'CESVI', 'Xubow', '2157', 'Individuals'),\n",
        "(33, 'IMC', 'Xiintooy', '1667', 'Individuals'),\n",
        "(34, 'IRC', 'Xiintooy', '2667', 'Individuals'),\n",
        "(35, 'CESVI', 'Dhagax Jebis', '2856', 'Individuals'),\n",
        "(36, 'CESVI', 'Filtare', '7519', 'Individuals'),\n",
        "(37, 'CESVI', 'Howl-Wadaag', '6870', 'Individuals'),\n",
        "(38, 'IMC', 'Howl-Wadaag', '32', 'Households');"
      ],
      "metadata": {
        "colab": {
          "base_uri": "https://localhost:8080/"
        },
        "id": "lZBd10Kz6Zt9",
        "outputId": "71139ba9-8231-4552-95be-a600ffe4ab5b"
      },
      "execution_count": null,
      "outputs": [
        {
          "output_type": "stream",
          "name": "stdout",
          "text": [
            " * sqlite:///beneficiary\n",
            "37 rows affected.\n"
          ]
        },
        {
          "output_type": "execute_result",
          "data": {
            "text/plain": [
              "[]"
            ]
          },
          "metadata": {},
          "execution_count": 6
        }
      ]
    },
    {
      "cell_type": "code",
      "source": [
        "%sql create table jurisdiction_hierachy(hierachy_id int,name varchar100,area varchar100,town_name);"
      ],
      "metadata": {
        "colab": {
          "base_uri": "https://localhost:8080/"
        },
        "id": "cKRq-MkM7mE7",
        "outputId": "3cf132aa-79cb-4864-ca4c-5eca10bcf401"
      },
      "execution_count": null,
      "outputs": [
        {
          "output_type": "stream",
          "name": "stdout",
          "text": [
            " * sqlite:///beneficiary\n",
            "Done.\n"
          ]
        },
        {
          "output_type": "execute_result",
          "data": {
            "text/plain": [
              "[]"
            ]
          },
          "metadata": {},
          "execution_count": 7
        }
      ]
    },
    {
      "cell_type": "code",
      "source": [
        "\n",
        "%%sql insert into jurisdiction_hierachy(hierachy_id,name,area,town_name) Values\n",
        "(1,'Middle Shabelle','Region',NULL),\n",
        "(2,'Hiraan','Region',NULL),\n",
        "(3,'Balcad','District','Middle Shabelle'),\n",
        "(4,'Jowhar','District','Middle Shabelle'),\n",
        "(5,'Beledweyn','District','Hiraan'),\n",
        "(6,'Dharkenley','Village','Beledweyn'),\n",
        "(7,'Bulo-Kahin','Village','Beledweyn'),\n",
        "(8,'Hilo Kelyo','Village','Beledweyn'),\n",
        "(9,'Xubow','Village','Beledweyn'),\n",
        "(10,'Xiintooy','Village','Beledweyn'),\n",
        "(11,'Dhagax Jebis','Village','Beledweyn'),\n",
        "(12,'Filtare','Village','Beledweyn'),\n",
        "(13,'Howl-Wadaag','Village','Beledweyn'),\n",
        "(14,'Balcad','Village','Balcad'),\n",
        "(15,'Mareeray','Village','Balcad'),\n",
        "(16,'Kulmis','Village','Balcad'),\n",
        "(17,'Sabuun','Village','Jowhar'),\n",
        "(18,'Bayaxaw','Village','Jowhar');"
      ],
      "metadata": {
        "colab": {
          "base_uri": "https://localhost:8080/"
        },
        "id": "ajNWtl9m9iWf",
        "outputId": "1ed9a9e1-492f-4afd-8b04-e0e926dcc7f1"
      },
      "execution_count": null,
      "outputs": [
        {
          "output_type": "stream",
          "name": "stdout",
          "text": [
            " * sqlite:///beneficiary\n",
            "18 rows affected.\n"
          ]
        },
        {
          "output_type": "execute_result",
          "data": {
            "text/plain": [
              "[]"
            ]
          },
          "metadata": {},
          "execution_count": 8
        }
      ]
    },
    {
      "cell_type": "code",
      "source": [
        "%sql select * from beneficiary_parner_data"
      ],
      "metadata": {
        "colab": {
          "base_uri": "https://localhost:8080/",
          "height": 1000
        },
        "id": "QYNymahu-Ngc",
        "outputId": "ba32654c-97b0-4f55-efdf-f90508fb652a"
      },
      "execution_count": null,
      "outputs": [
        {
          "output_type": "stream",
          "name": "stdout",
          "text": [
            " * sqlite:///beneficiary\n",
            "Done.\n"
          ]
        },
        {
          "output_type": "execute_result",
          "data": {
            "text/plain": [
              "[(2, 'NRC', 'Balcad', 50, 'Households'),\n",
              " (3, 'SCI', 'Balcad', 1123, 'Individuals'),\n",
              " (4, 'IMC', 'Balcad', 1245, 'Individuals'),\n",
              " (5, 'SCI', 'Mareeray', 5200, 'Individuals'),\n",
              " (6, 'IMC', 'Mareeray', 70, 'Households'),\n",
              " (7, 'IRC', 'Mareeray', 2100, 'Individuals'),\n",
              " (8, 'CESVI', 'Mareeray', 1800, 'Individuals'),\n",
              " (9, 'SCI', 'Kulmis', 1340, 'Individuals'),\n",
              " (10, 'IMC', 'Kulmis', 55, 'Households'),\n",
              " (11, 'SCI', 'Kulmis', 4500, 'Individuals'),\n",
              " (12, 'IMC', 'Kulmis', 1670, 'Individuals'),\n",
              " (13, 'IMC', 'Sabuun', 1340, 'Individuals'),\n",
              " (14, 'IRC', 'Sabuun', 66, 'Households'),\n",
              " (15, 'CESVI', 'Sabuun', 4090, 'Individuals'),\n",
              " (16, 'SCI', 'Sabuun', 2930, 'Individuals'),\n",
              " (17, 'IMC', 'Bayaxaw', 2800, 'Individuals'),\n",
              " (18, 'IRC', 'Bayaxaw', 2100, 'Individuals'),\n",
              " (19, 'CESVI', 'Bayaxaw', 45, 'Households'),\n",
              " (20, 'SCI', 'Bayaxaw', 1700, 'Individuals'),\n",
              " (21, 'SCI', 'Bayaxawo', 5900, 'Individuals'),\n",
              " (22, 'IMC', 'Bayaxawo', 40, 'Households'),\n",
              " (23, 'IRC', 'Bayaxawo', 1500, 'Individuals'),\n",
              " (24, 'CESVI', 'Bayaxawo', 1260, 'Individuals'),\n",
              " (25, 'CESVI', 'Dharkenley', 7880, 'Individuals'),\n",
              " (26, 'IRC', 'Dharkenley', 34, 'Households'),\n",
              " (27, 'SCI', 'Bulo-Kahin', 4300, 'Individuals'),\n",
              " (28, 'IMC', 'Bulo-Kahin', 4212, 'Individuals'),\n",
              " (29, 'IRC', 'Bulo-Kahin', 3200, 'Individuals'),\n",
              " (30, 'IRC', 'Hilo Kelyo', 5212, 'Individuals'),\n",
              " (31, 'SCI', 'Hilo Kelyo', 25, 'Households'),\n",
              " (32, 'CESVI', 'Xubow', 2157, 'Individuals'),\n",
              " (33, 'IMC', 'Xiintooy', 1667, 'Individuals'),\n",
              " (34, 'IRC', 'Xiintooy', 2667, 'Individuals'),\n",
              " (35, 'CESVI', 'Dhagax Jebis', 2856, 'Individuals'),\n",
              " (36, 'CESVI', 'Filtare', 7519, 'Individuals'),\n",
              " (37, 'CESVI', 'Howl-Wadaag', 6870, 'Individuals'),\n",
              " (38, 'IMC', 'Howl-Wadaag', 32, 'Households'),\n",
              " (2, 'NRC', 'Balcad', 50, 'Households'),\n",
              " (3, 'SCI', 'Balcad', 1123, 'Individuals'),\n",
              " (4, 'IMC', 'Balcad', 1245, 'Individuals'),\n",
              " (5, 'SCI', 'Mareeray', 5200, 'Individuals'),\n",
              " (6, 'IMC', 'Mareeray', 70, 'Households'),\n",
              " (7, 'IRC', 'Mareeray', 2100, 'Individuals'),\n",
              " (8, 'CESVI', 'Mareeray', 1800, 'Individuals'),\n",
              " (9, 'SCI', 'Kulmis', 1340, 'Individuals'),\n",
              " (10, 'IMC', 'Kulmis', 55, 'Households'),\n",
              " (11, 'SCI', 'Kulmis', 4500, 'Individuals'),\n",
              " (12, 'IMC', 'Kulmis', 1670, 'Individuals'),\n",
              " (13, 'IMC', 'Sabuun', 1340, 'Individuals'),\n",
              " (14, 'IRC', 'Sabuun', 66, 'Households'),\n",
              " (15, 'CESVI', 'Sabuun', 4090, 'Individuals'),\n",
              " (16, 'SCI', 'Sabuun', 2930, 'Individuals'),\n",
              " (17, 'IMC', 'Bayaxaw', 2800, 'Individuals'),\n",
              " (18, 'IRC', 'Bayaxaw', 2100, 'Individuals'),\n",
              " (19, 'CESVI', 'Bayaxaw', 45, 'Households'),\n",
              " (20, 'SCI', 'Bayaxaw', 1700, 'Individuals'),\n",
              " (21, 'SCI', 'Bayaxawo', 5900, 'Individuals'),\n",
              " (22, 'IMC', 'Bayaxawo', 40, 'Households'),\n",
              " (23, 'IRC', 'Bayaxawo', 1500, 'Individuals'),\n",
              " (24, 'CESVI', 'Bayaxawo', 1260, 'Individuals'),\n",
              " (25, 'CESVI', 'Dharkenley', 7880, 'Individuals'),\n",
              " (26, 'IRC', 'Dharkenley', 34, 'Households'),\n",
              " (27, 'SCI', 'Bulo-Kahin', 4300, 'Individuals'),\n",
              " (28, 'IMC', 'Bulo-Kahin', 4212, 'Individuals'),\n",
              " (29, 'IRC', 'Bulo-Kahin', 3200, 'Individuals'),\n",
              " (30, 'IRC', 'Hilo Kelyo', 5212, 'Individuals'),\n",
              " (31, 'SCI', 'Hilo Kelyo', 25, 'Households'),\n",
              " (32, 'CESVI', 'Xubow', 2157, 'Individuals'),\n",
              " (33, 'IMC', 'Xiintooy', 1667, 'Individuals'),\n",
              " (34, 'IRC', 'Xiintooy', 2667, 'Individuals'),\n",
              " (35, 'CESVI', 'Dhagax Jebis', 2856, 'Individuals'),\n",
              " (36, 'CESVI', 'Filtare', 7519, 'Individuals'),\n",
              " (37, 'CESVI', 'Howl-Wadaag', 6870, 'Individuals'),\n",
              " (38, 'IMC', 'Howl-Wadaag', 32, 'Households')]"
            ],
            "text/html": [
              "<table>\n",
              "    <thead>\n",
              "        <tr>\n",
              "            <th>partner_id</th>\n",
              "            <th>partner</th>\n",
              "            <th>village</th>\n",
              "            <th>beneficiary</th>\n",
              "            <th>beneficiary_type</th>\n",
              "        </tr>\n",
              "    </thead>\n",
              "    <tbody>\n",
              "        <tr>\n",
              "            <td>2</td>\n",
              "            <td>NRC</td>\n",
              "            <td>Balcad</td>\n",
              "            <td>50</td>\n",
              "            <td>Households</td>\n",
              "        </tr>\n",
              "        <tr>\n",
              "            <td>3</td>\n",
              "            <td>SCI</td>\n",
              "            <td>Balcad</td>\n",
              "            <td>1123</td>\n",
              "            <td>Individuals</td>\n",
              "        </tr>\n",
              "        <tr>\n",
              "            <td>4</td>\n",
              "            <td>IMC</td>\n",
              "            <td>Balcad</td>\n",
              "            <td>1245</td>\n",
              "            <td>Individuals</td>\n",
              "        </tr>\n",
              "        <tr>\n",
              "            <td>5</td>\n",
              "            <td>SCI</td>\n",
              "            <td>Mareeray</td>\n",
              "            <td>5200</td>\n",
              "            <td>Individuals</td>\n",
              "        </tr>\n",
              "        <tr>\n",
              "            <td>6</td>\n",
              "            <td>IMC</td>\n",
              "            <td>Mareeray</td>\n",
              "            <td>70</td>\n",
              "            <td>Households</td>\n",
              "        </tr>\n",
              "        <tr>\n",
              "            <td>7</td>\n",
              "            <td>IRC</td>\n",
              "            <td>Mareeray</td>\n",
              "            <td>2100</td>\n",
              "            <td>Individuals</td>\n",
              "        </tr>\n",
              "        <tr>\n",
              "            <td>8</td>\n",
              "            <td>CESVI</td>\n",
              "            <td>Mareeray</td>\n",
              "            <td>1800</td>\n",
              "            <td>Individuals</td>\n",
              "        </tr>\n",
              "        <tr>\n",
              "            <td>9</td>\n",
              "            <td>SCI</td>\n",
              "            <td>Kulmis</td>\n",
              "            <td>1340</td>\n",
              "            <td>Individuals</td>\n",
              "        </tr>\n",
              "        <tr>\n",
              "            <td>10</td>\n",
              "            <td>IMC</td>\n",
              "            <td>Kulmis</td>\n",
              "            <td>55</td>\n",
              "            <td>Households</td>\n",
              "        </tr>\n",
              "        <tr>\n",
              "            <td>11</td>\n",
              "            <td>SCI</td>\n",
              "            <td>Kulmis</td>\n",
              "            <td>4500</td>\n",
              "            <td>Individuals</td>\n",
              "        </tr>\n",
              "        <tr>\n",
              "            <td>12</td>\n",
              "            <td>IMC</td>\n",
              "            <td>Kulmis</td>\n",
              "            <td>1670</td>\n",
              "            <td>Individuals</td>\n",
              "        </tr>\n",
              "        <tr>\n",
              "            <td>13</td>\n",
              "            <td>IMC</td>\n",
              "            <td>Sabuun</td>\n",
              "            <td>1340</td>\n",
              "            <td>Individuals</td>\n",
              "        </tr>\n",
              "        <tr>\n",
              "            <td>14</td>\n",
              "            <td>IRC</td>\n",
              "            <td>Sabuun</td>\n",
              "            <td>66</td>\n",
              "            <td>Households</td>\n",
              "        </tr>\n",
              "        <tr>\n",
              "            <td>15</td>\n",
              "            <td>CESVI</td>\n",
              "            <td>Sabuun</td>\n",
              "            <td>4090</td>\n",
              "            <td>Individuals</td>\n",
              "        </tr>\n",
              "        <tr>\n",
              "            <td>16</td>\n",
              "            <td>SCI</td>\n",
              "            <td>Sabuun</td>\n",
              "            <td>2930</td>\n",
              "            <td>Individuals</td>\n",
              "        </tr>\n",
              "        <tr>\n",
              "            <td>17</td>\n",
              "            <td>IMC</td>\n",
              "            <td>Bayaxaw</td>\n",
              "            <td>2800</td>\n",
              "            <td>Individuals</td>\n",
              "        </tr>\n",
              "        <tr>\n",
              "            <td>18</td>\n",
              "            <td>IRC</td>\n",
              "            <td>Bayaxaw</td>\n",
              "            <td>2100</td>\n",
              "            <td>Individuals</td>\n",
              "        </tr>\n",
              "        <tr>\n",
              "            <td>19</td>\n",
              "            <td>CESVI</td>\n",
              "            <td>Bayaxaw</td>\n",
              "            <td>45</td>\n",
              "            <td>Households</td>\n",
              "        </tr>\n",
              "        <tr>\n",
              "            <td>20</td>\n",
              "            <td>SCI</td>\n",
              "            <td>Bayaxaw</td>\n",
              "            <td>1700</td>\n",
              "            <td>Individuals</td>\n",
              "        </tr>\n",
              "        <tr>\n",
              "            <td>21</td>\n",
              "            <td>SCI</td>\n",
              "            <td>Bayaxawo</td>\n",
              "            <td>5900</td>\n",
              "            <td>Individuals</td>\n",
              "        </tr>\n",
              "        <tr>\n",
              "            <td>22</td>\n",
              "            <td>IMC</td>\n",
              "            <td>Bayaxawo</td>\n",
              "            <td>40</td>\n",
              "            <td>Households</td>\n",
              "        </tr>\n",
              "        <tr>\n",
              "            <td>23</td>\n",
              "            <td>IRC</td>\n",
              "            <td>Bayaxawo</td>\n",
              "            <td>1500</td>\n",
              "            <td>Individuals</td>\n",
              "        </tr>\n",
              "        <tr>\n",
              "            <td>24</td>\n",
              "            <td>CESVI</td>\n",
              "            <td>Bayaxawo</td>\n",
              "            <td>1260</td>\n",
              "            <td>Individuals</td>\n",
              "        </tr>\n",
              "        <tr>\n",
              "            <td>25</td>\n",
              "            <td>CESVI</td>\n",
              "            <td>Dharkenley</td>\n",
              "            <td>7880</td>\n",
              "            <td>Individuals</td>\n",
              "        </tr>\n",
              "        <tr>\n",
              "            <td>26</td>\n",
              "            <td>IRC</td>\n",
              "            <td>Dharkenley</td>\n",
              "            <td>34</td>\n",
              "            <td>Households</td>\n",
              "        </tr>\n",
              "        <tr>\n",
              "            <td>27</td>\n",
              "            <td>SCI</td>\n",
              "            <td>Bulo-Kahin</td>\n",
              "            <td>4300</td>\n",
              "            <td>Individuals</td>\n",
              "        </tr>\n",
              "        <tr>\n",
              "            <td>28</td>\n",
              "            <td>IMC</td>\n",
              "            <td>Bulo-Kahin</td>\n",
              "            <td>4212</td>\n",
              "            <td>Individuals</td>\n",
              "        </tr>\n",
              "        <tr>\n",
              "            <td>29</td>\n",
              "            <td>IRC</td>\n",
              "            <td>Bulo-Kahin</td>\n",
              "            <td>3200</td>\n",
              "            <td>Individuals</td>\n",
              "        </tr>\n",
              "        <tr>\n",
              "            <td>30</td>\n",
              "            <td>IRC</td>\n",
              "            <td>Hilo Kelyo</td>\n",
              "            <td>5212</td>\n",
              "            <td>Individuals</td>\n",
              "        </tr>\n",
              "        <tr>\n",
              "            <td>31</td>\n",
              "            <td>SCI</td>\n",
              "            <td>Hilo Kelyo</td>\n",
              "            <td>25</td>\n",
              "            <td>Households</td>\n",
              "        </tr>\n",
              "        <tr>\n",
              "            <td>32</td>\n",
              "            <td>CESVI</td>\n",
              "            <td>Xubow</td>\n",
              "            <td>2157</td>\n",
              "            <td>Individuals</td>\n",
              "        </tr>\n",
              "        <tr>\n",
              "            <td>33</td>\n",
              "            <td>IMC</td>\n",
              "            <td>Xiintooy</td>\n",
              "            <td>1667</td>\n",
              "            <td>Individuals</td>\n",
              "        </tr>\n",
              "        <tr>\n",
              "            <td>34</td>\n",
              "            <td>IRC</td>\n",
              "            <td>Xiintooy</td>\n",
              "            <td>2667</td>\n",
              "            <td>Individuals</td>\n",
              "        </tr>\n",
              "        <tr>\n",
              "            <td>35</td>\n",
              "            <td>CESVI</td>\n",
              "            <td>Dhagax Jebis</td>\n",
              "            <td>2856</td>\n",
              "            <td>Individuals</td>\n",
              "        </tr>\n",
              "        <tr>\n",
              "            <td>36</td>\n",
              "            <td>CESVI</td>\n",
              "            <td>Filtare</td>\n",
              "            <td>7519</td>\n",
              "            <td>Individuals</td>\n",
              "        </tr>\n",
              "        <tr>\n",
              "            <td>37</td>\n",
              "            <td>CESVI</td>\n",
              "            <td>Howl-Wadaag</td>\n",
              "            <td>6870</td>\n",
              "            <td>Individuals</td>\n",
              "        </tr>\n",
              "        <tr>\n",
              "            <td>38</td>\n",
              "            <td>IMC</td>\n",
              "            <td>Howl-Wadaag</td>\n",
              "            <td>32</td>\n",
              "            <td>Households</td>\n",
              "        </tr>\n",
              "        <tr>\n",
              "            <td>2</td>\n",
              "            <td>NRC</td>\n",
              "            <td>Balcad</td>\n",
              "            <td>50</td>\n",
              "            <td>Households</td>\n",
              "        </tr>\n",
              "        <tr>\n",
              "            <td>3</td>\n",
              "            <td>SCI</td>\n",
              "            <td>Balcad</td>\n",
              "            <td>1123</td>\n",
              "            <td>Individuals</td>\n",
              "        </tr>\n",
              "        <tr>\n",
              "            <td>4</td>\n",
              "            <td>IMC</td>\n",
              "            <td>Balcad</td>\n",
              "            <td>1245</td>\n",
              "            <td>Individuals</td>\n",
              "        </tr>\n",
              "        <tr>\n",
              "            <td>5</td>\n",
              "            <td>SCI</td>\n",
              "            <td>Mareeray</td>\n",
              "            <td>5200</td>\n",
              "            <td>Individuals</td>\n",
              "        </tr>\n",
              "        <tr>\n",
              "            <td>6</td>\n",
              "            <td>IMC</td>\n",
              "            <td>Mareeray</td>\n",
              "            <td>70</td>\n",
              "            <td>Households</td>\n",
              "        </tr>\n",
              "        <tr>\n",
              "            <td>7</td>\n",
              "            <td>IRC</td>\n",
              "            <td>Mareeray</td>\n",
              "            <td>2100</td>\n",
              "            <td>Individuals</td>\n",
              "        </tr>\n",
              "        <tr>\n",
              "            <td>8</td>\n",
              "            <td>CESVI</td>\n",
              "            <td>Mareeray</td>\n",
              "            <td>1800</td>\n",
              "            <td>Individuals</td>\n",
              "        </tr>\n",
              "        <tr>\n",
              "            <td>9</td>\n",
              "            <td>SCI</td>\n",
              "            <td>Kulmis</td>\n",
              "            <td>1340</td>\n",
              "            <td>Individuals</td>\n",
              "        </tr>\n",
              "        <tr>\n",
              "            <td>10</td>\n",
              "            <td>IMC</td>\n",
              "            <td>Kulmis</td>\n",
              "            <td>55</td>\n",
              "            <td>Households</td>\n",
              "        </tr>\n",
              "        <tr>\n",
              "            <td>11</td>\n",
              "            <td>SCI</td>\n",
              "            <td>Kulmis</td>\n",
              "            <td>4500</td>\n",
              "            <td>Individuals</td>\n",
              "        </tr>\n",
              "        <tr>\n",
              "            <td>12</td>\n",
              "            <td>IMC</td>\n",
              "            <td>Kulmis</td>\n",
              "            <td>1670</td>\n",
              "            <td>Individuals</td>\n",
              "        </tr>\n",
              "        <tr>\n",
              "            <td>13</td>\n",
              "            <td>IMC</td>\n",
              "            <td>Sabuun</td>\n",
              "            <td>1340</td>\n",
              "            <td>Individuals</td>\n",
              "        </tr>\n",
              "        <tr>\n",
              "            <td>14</td>\n",
              "            <td>IRC</td>\n",
              "            <td>Sabuun</td>\n",
              "            <td>66</td>\n",
              "            <td>Households</td>\n",
              "        </tr>\n",
              "        <tr>\n",
              "            <td>15</td>\n",
              "            <td>CESVI</td>\n",
              "            <td>Sabuun</td>\n",
              "            <td>4090</td>\n",
              "            <td>Individuals</td>\n",
              "        </tr>\n",
              "        <tr>\n",
              "            <td>16</td>\n",
              "            <td>SCI</td>\n",
              "            <td>Sabuun</td>\n",
              "            <td>2930</td>\n",
              "            <td>Individuals</td>\n",
              "        </tr>\n",
              "        <tr>\n",
              "            <td>17</td>\n",
              "            <td>IMC</td>\n",
              "            <td>Bayaxaw</td>\n",
              "            <td>2800</td>\n",
              "            <td>Individuals</td>\n",
              "        </tr>\n",
              "        <tr>\n",
              "            <td>18</td>\n",
              "            <td>IRC</td>\n",
              "            <td>Bayaxaw</td>\n",
              "            <td>2100</td>\n",
              "            <td>Individuals</td>\n",
              "        </tr>\n",
              "        <tr>\n",
              "            <td>19</td>\n",
              "            <td>CESVI</td>\n",
              "            <td>Bayaxaw</td>\n",
              "            <td>45</td>\n",
              "            <td>Households</td>\n",
              "        </tr>\n",
              "        <tr>\n",
              "            <td>20</td>\n",
              "            <td>SCI</td>\n",
              "            <td>Bayaxaw</td>\n",
              "            <td>1700</td>\n",
              "            <td>Individuals</td>\n",
              "        </tr>\n",
              "        <tr>\n",
              "            <td>21</td>\n",
              "            <td>SCI</td>\n",
              "            <td>Bayaxawo</td>\n",
              "            <td>5900</td>\n",
              "            <td>Individuals</td>\n",
              "        </tr>\n",
              "        <tr>\n",
              "            <td>22</td>\n",
              "            <td>IMC</td>\n",
              "            <td>Bayaxawo</td>\n",
              "            <td>40</td>\n",
              "            <td>Households</td>\n",
              "        </tr>\n",
              "        <tr>\n",
              "            <td>23</td>\n",
              "            <td>IRC</td>\n",
              "            <td>Bayaxawo</td>\n",
              "            <td>1500</td>\n",
              "            <td>Individuals</td>\n",
              "        </tr>\n",
              "        <tr>\n",
              "            <td>24</td>\n",
              "            <td>CESVI</td>\n",
              "            <td>Bayaxawo</td>\n",
              "            <td>1260</td>\n",
              "            <td>Individuals</td>\n",
              "        </tr>\n",
              "        <tr>\n",
              "            <td>25</td>\n",
              "            <td>CESVI</td>\n",
              "            <td>Dharkenley</td>\n",
              "            <td>7880</td>\n",
              "            <td>Individuals</td>\n",
              "        </tr>\n",
              "        <tr>\n",
              "            <td>26</td>\n",
              "            <td>IRC</td>\n",
              "            <td>Dharkenley</td>\n",
              "            <td>34</td>\n",
              "            <td>Households</td>\n",
              "        </tr>\n",
              "        <tr>\n",
              "            <td>27</td>\n",
              "            <td>SCI</td>\n",
              "            <td>Bulo-Kahin</td>\n",
              "            <td>4300</td>\n",
              "            <td>Individuals</td>\n",
              "        </tr>\n",
              "        <tr>\n",
              "            <td>28</td>\n",
              "            <td>IMC</td>\n",
              "            <td>Bulo-Kahin</td>\n",
              "            <td>4212</td>\n",
              "            <td>Individuals</td>\n",
              "        </tr>\n",
              "        <tr>\n",
              "            <td>29</td>\n",
              "            <td>IRC</td>\n",
              "            <td>Bulo-Kahin</td>\n",
              "            <td>3200</td>\n",
              "            <td>Individuals</td>\n",
              "        </tr>\n",
              "        <tr>\n",
              "            <td>30</td>\n",
              "            <td>IRC</td>\n",
              "            <td>Hilo Kelyo</td>\n",
              "            <td>5212</td>\n",
              "            <td>Individuals</td>\n",
              "        </tr>\n",
              "        <tr>\n",
              "            <td>31</td>\n",
              "            <td>SCI</td>\n",
              "            <td>Hilo Kelyo</td>\n",
              "            <td>25</td>\n",
              "            <td>Households</td>\n",
              "        </tr>\n",
              "        <tr>\n",
              "            <td>32</td>\n",
              "            <td>CESVI</td>\n",
              "            <td>Xubow</td>\n",
              "            <td>2157</td>\n",
              "            <td>Individuals</td>\n",
              "        </tr>\n",
              "        <tr>\n",
              "            <td>33</td>\n",
              "            <td>IMC</td>\n",
              "            <td>Xiintooy</td>\n",
              "            <td>1667</td>\n",
              "            <td>Individuals</td>\n",
              "        </tr>\n",
              "        <tr>\n",
              "            <td>34</td>\n",
              "            <td>IRC</td>\n",
              "            <td>Xiintooy</td>\n",
              "            <td>2667</td>\n",
              "            <td>Individuals</td>\n",
              "        </tr>\n",
              "        <tr>\n",
              "            <td>35</td>\n",
              "            <td>CESVI</td>\n",
              "            <td>Dhagax Jebis</td>\n",
              "            <td>2856</td>\n",
              "            <td>Individuals</td>\n",
              "        </tr>\n",
              "        <tr>\n",
              "            <td>36</td>\n",
              "            <td>CESVI</td>\n",
              "            <td>Filtare</td>\n",
              "            <td>7519</td>\n",
              "            <td>Individuals</td>\n",
              "        </tr>\n",
              "        <tr>\n",
              "            <td>37</td>\n",
              "            <td>CESVI</td>\n",
              "            <td>Howl-Wadaag</td>\n",
              "            <td>6870</td>\n",
              "            <td>Individuals</td>\n",
              "        </tr>\n",
              "        <tr>\n",
              "            <td>38</td>\n",
              "            <td>IMC</td>\n",
              "            <td>Howl-Wadaag</td>\n",
              "            <td>32</td>\n",
              "            <td>Households</td>\n",
              "        </tr>\n",
              "    </tbody>\n",
              "</table>"
            ]
          },
          "metadata": {},
          "execution_count": 9
        }
      ]
    },
    {
      "cell_type": "code",
      "source": [
        "%%sql CREATE VIEW district_summary AS\n",
        "SELECT\n",
        "  l.district_name,\n",
        "  r.region_name,\n",
        "  SUM(p.beneficiaries / 6) AS total_individuals,\n",
        "  (SUM(p.beneficiaries / 6) / d.population) * 100 AS individuals_pct\n",
        "FROM village_location l\n",
        "JOIN jurisdiction_hierarchy j ON l.district_id = j.district_id\n",
        "JOIN region r ON j.region_id = r.region_id\n",
        "JOIN partner_beneficiary p ON l.village_id = p.village_id\n",
        "JOIN district d ON l.district_id = d.district_id\n",
        "GROUP BY l.district_id, l.district_name, r.region_name, d.population;"
      ],
      "metadata": {
        "colab": {
          "base_uri": "https://localhost:8080/"
        },
        "id": "mSO9nwtOQUlU",
        "outputId": "dc2cdb53-f8c2-44c7-f7a0-7acef771714b"
      },
      "execution_count": 16,
      "outputs": [
        {
          "output_type": "stream",
          "name": "stdout",
          "text": [
            " * sqlite:///beneficiary\n",
            "Done.\n"
          ]
        },
        {
          "output_type": "execute_result",
          "data": {
            "text/plain": [
              "[]"
            ]
          },
          "metadata": {},
          "execution_count": 16
        }
      ]
    },
    {
      "cell_type": "code",
      "source": [
        "%%sql CREATE VIEW partner_summary AS\n",
        "SELECT\n",
        "  p.partner,\n",
        "  COUNT(DISTINCT p.village_id) AS villages_reached,\n",
        "  COUNT(DISTINCT l.district_id) AS districts_reached\n",
        "FROM partner_beneficiary p\n",
        "JOIN village_location l ON p.village_id = l.village_id\n",
        "GROUP BY p.partner;"
      ],
      "metadata": {
        "colab": {
          "base_uri": "https://localhost:8080/"
        },
        "id": "mFYhusMOR11d",
        "outputId": "1116b11f-81f7-4a03-8929-99e1b8536fae"
      },
      "execution_count": 18,
      "outputs": [
        {
          "output_type": "stream",
          "name": "stdout",
          "text": [
            " * sqlite:///beneficiary\n",
            "Done.\n"
          ]
        },
        {
          "output_type": "execute_result",
          "data": {
            "text/plain": [
              "[]"
            ]
          },
          "metadata": {},
          "execution_count": 18
        }
      ]
    }
  ]
}